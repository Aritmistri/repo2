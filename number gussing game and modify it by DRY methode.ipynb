{
 "cells": [
  {
   "cell_type": "markdown",
   "metadata": {},
   "source": [
    "# break key word"
   ]
  },
  {
   "cell_type": "code",
   "execution_count": 1,
   "metadata": {},
   "outputs": [
    {
     "name": "stdout",
     "output_type": "stream",
     "text": [
      "1\n",
      "2\n",
      "3\n",
      "4\n"
     ]
    }
   ],
   "source": [
    "#1 to 10 point\n",
    "for i in range(1,11):\n",
    "    if i== 5:\n",
    "        break\n",
    "    print(i)"
   ]
  },
  {
   "cell_type": "markdown",
   "metadata": {},
   "source": [
    "# continue key word"
   ]
  },
  {
   "cell_type": "code",
   "execution_count": 3,
   "metadata": {},
   "outputs": [
    {
     "name": "stdout",
     "output_type": "stream",
     "text": [
      "1\n",
      "2\n",
      "3\n",
      "4\n",
      "6\n",
      "7\n",
      "8\n",
      "9\n",
      "10\n"
     ]
    }
   ],
   "source": [
    "# print 1 to 10, but not 5\n",
    "#1,2,3,4,6,7.....10\n",
    "for i in range(1, 11):\n",
    "    if i==5:\n",
    "        continue\n",
    "    print(i)"
   ]
  },
  {
   "cell_type": "markdown",
   "metadata": {},
   "source": [
    "## number gusessing game"
   ]
  },
  {
   "cell_type": "code",
   "execution_count": 7,
   "metadata": {},
   "outputs": [
    {
     "name": "stdout",
     "output_type": "stream",
     "text": [
      "guess a number between 1 and 100 : 55\n",
      "to high\n",
      "guess again :43\n",
      "you are win, and guess this number2 times\n"
     ]
    }
   ],
   "source": [
    "winning_number = 43\n",
    "number = int(input(\"guess a number between 1 and 100 : \"))\n",
    "game_Over = False\n",
    "guess = 1\n",
    "\n",
    "\n",
    "while not game_Over:\n",
    "    if number == winning_number:\n",
    "        print(f\"you are win, and guess this number{guess} times\")\n",
    "        game_over = True\n",
    "        break\n",
    "    \n",
    "    else:\n",
    "        if number < winning_number:\n",
    "            print(\"to low\")\n",
    "            guess += 1\n",
    "            number = int(input(\"plz guess number again: \"))\n",
    "        else:\n",
    "            print(\"to high\")\n",
    "            guess += 1\n",
    "            number = int(input(\"guess again :\"))\n",
    "            "
   ]
  },
  {
   "cell_type": "markdown",
   "metadata": {},
   "source": [
    "# Dry principle"
   ]
  },
  {
   "cell_type": "markdown",
   "metadata": {},
   "source": [
    "# # DRY - don't repeat yourself"
   ]
  },
  {
   "cell_type": "code",
   "execution_count": 8,
   "metadata": {},
   "outputs": [
    {
     "name": "stdout",
     "output_type": "stream",
     "text": [
      "guess a number between 1 and 100 : 43\n",
      "you are win, and guess this number1 times\n"
     ]
    }
   ],
   "source": [
    "winning_number = 43\n",
    "number = int(input(\"guess a number between 1 and 100 : \"))\n",
    "game_Over = False\n",
    "guess = 1\n",
    "\n",
    "\n",
    "while not game_Over:\n",
    "    if number == winning_number:\n",
    "        print(f\"you are win, and guess this number{guess} times\")\n",
    "        game_over = True\n",
    "        break\n",
    "    \n",
    "    else:\n",
    "        if number < winning_number:\n",
    "            print(\"to low\")\n",
    "        else:\n",
    "            print(\"to high\")\n",
    "        guess +=1\n",
    "        print = int(input(\"guess again : \"))\n",
    "        \n",
    "            \n"
   ]
  },
  {
   "cell_type": "markdown",
   "metadata": {},
   "source": [
    "# step argument "
   ]
  },
  {
   "cell_type": "code",
   "execution_count": 10,
   "metadata": {},
   "outputs": [
    {
     "name": "stdout",
     "output_type": "stream",
     "text": [
      "0\n",
      "2\n",
      "4\n",
      "6\n",
      "8\n",
      "10\n"
     ]
    }
   ],
   "source": [
    "for i in range(0,11,2): #last argumnet is a step argument \n",
    "    print(i) #{print all odd number}"
   ]
  },
  {
   "cell_type": "code",
   "execution_count": null,
   "metadata": {},
   "outputs": [],
   "source": []
  }
 ],
 "metadata": {
  "kernelspec": {
   "display_name": "Python 3",
   "language": "python",
   "name": "python3"
  },
  "language_info": {
   "codemirror_mode": {
    "name": "ipython",
    "version": 3
   },
   "file_extension": ".py",
   "mimetype": "text/x-python",
   "name": "python",
   "nbconvert_exporter": "python",
   "pygments_lexer": "ipython3",
   "version": "3.8.5"
  }
 },
 "nbformat": 4,
 "nbformat_minor": 4
}
