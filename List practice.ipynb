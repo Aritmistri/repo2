{
 "cells": [
  {
   "cell_type": "markdown",
   "metadata": {},
   "source": [
    "# list (odered collection of items):"
   ]
  },
  {
   "cell_type": "markdown",
   "metadata": {},
   "source": [
    "list is a data structure you can store ananything in lists - int, float, string"
   ]
  },
  {
   "cell_type": "code",
   "execution_count": 1,
   "metadata": {},
   "outputs": [
    {
     "name": "stdout",
     "output_type": "stream",
     "text": [
      "[1, 2, 3, 4]\n",
      "['word1', 'word2', 'word3']\n",
      "[1, 2, 3, 'five', 'six', None]\n"
     ]
    }
   ],
   "source": [
    "numbers = [1,2,3,4]\n",
    "print(numbers)\n",
    "\n",
    "words = [ \"word1\", \"word2\", \"word3\"]\n",
    "print(words)\n",
    "\n",
    "mixed = [1,2,3, \"five\", \"six\", None]\n",
    "print(mixed)"
   ]
  },
  {
   "cell_type": "markdown",
   "metadata": {},
   "source": [
    "acess of list"
   ]
  },
  {
   "cell_type": "code",
   "execution_count": 5,
   "metadata": {},
   "outputs": [
    {
     "name": "stdout",
     "output_type": "stream",
     "text": [
      "[1, 2, 3, 'five', 'six', None]\n",
      "[1, 'two', 3, 'five', 'six', None]\n"
     ]
    }
   ],
   "source": [
    "mixed = [1,2,3, \"five\", \"six\", None]\n",
    "print(mixed)\n",
    "\n",
    "mixed[1] = \"two\"\n",
    "print(mixed)"
   ]
  },
  {
   "cell_type": "code",
   "execution_count": 3,
   "metadata": {},
   "outputs": [
    {
     "name": "stdout",
     "output_type": "stream",
     "text": [
      "2\n",
      "['word1', 'word2']\n",
      "None\n"
     ]
    }
   ],
   "source": [
    "numbers = [1,2,3,4]\n",
    "print(numbers[1])#positive index\n",
    "\n",
    "words = [ \"word1\", \"word2\", \"word3\"]\n",
    "print(words[:2])#slicing\n",
    "\n",
    "mixed = [1,2,3, \"five\", \"six\", None]\n",
    "print(mixed[-1])#indexing"
   ]
  },
  {
   "cell_type": "markdown",
   "metadata": {},
   "source": [
    "# add data to list"
   ]
  },
  {
   "cell_type": "code",
   "execution_count": 6,
   "metadata": {},
   "outputs": [
    {
     "name": "stdout",
     "output_type": "stream",
     "text": [
      "['grapes', 'apple']\n",
      "['grapes', 'apple', 'orange']\n"
     ]
    }
   ],
   "source": [
    "fruits = ['grapes', 'apple']\n",
    "print(fruits)\n",
    "\n",
    "fruits = ['grapes', 'apple']\n",
    "fruits.append(\"orange\")   # add item in last position\n",
    "print(fruits)\n"
   ]
  },
  {
   "cell_type": "markdown",
   "metadata": {},
   "source": [
    "# append methode use in real life pogram as it"
   ]
  },
  {
   "cell_type": "code",
   "execution_count": 8,
   "metadata": {},
   "outputs": [
    {
     "name": "stdout",
     "output_type": "stream",
     "text": [
      "['orange', 'apple']\n"
     ]
    }
   ],
   "source": [
    "fruits = []\n",
    "fruits.append('orange')\n",
    "fruits.append('apple')\n",
    "print(fruits)\n",
    "\n"
   ]
  },
  {
   "cell_type": "markdown",
   "metadata": {},
   "source": [
    "# insert methode"
   ]
  },
  {
   "cell_type": "code",
   "execution_count": 10,
   "metadata": {},
   "outputs": [
    {
     "name": "stdout",
     "output_type": "stream",
     "text": [
      "['grapes', 'orange', 'apple']\n"
     ]
    }
   ],
   "source": [
    "#list.insert(1, \"item\")   1====> position of the item where i want to append/insert item\n",
    "fruits2 = ['grapes', 'apple']\n",
    "fruits2.insert(1,'orange')\n",
    "print(fruits2)"
   ]
  },
  {
   "cell_type": "markdown",
   "metadata": {},
   "source": [
    "# How to join two list   ///////     join====>concatenate"
   ]
  },
  {
   "cell_type": "code",
   "execution_count": 11,
   "metadata": {},
   "outputs": [
    {
     "name": "stdout",
     "output_type": "stream",
     "text": [
      "['grapes', 'apple', 'grapes', 'orange', 'apple']\n"
     ]
    }
   ],
   "source": [
    "fruits2 = ['grapes', 'apple']\n",
    "fruits3 = ['grapes', 'orange', 'apple']\n",
    "fruits = fruits2 + fruits3\n",
    "\n",
    "print(fruits)\n"
   ]
  },
  {
   "cell_type": "markdown",
   "metadata": {},
   "source": [
    "# extend methode"
   ]
  },
  {
   "cell_type": "code",
   "execution_count": 14,
   "metadata": {},
   "outputs": [
    {
     "name": "stdout",
     "output_type": "stream",
     "text": [
      "['grapes', 'apple', 'orange', 'apple']\n",
      "['orange', 'apple']\n",
      "['grapes', 'apple', 'orange', 'apple', ['orange', 'apple']]\n"
     ]
    }
   ],
   "source": [
    "fruits2 = ['grapes', 'apple']\n",
    "fruits3 = [ 'orange', 'apple']\n",
    "fruits2.extend(fruits3)\n",
    "print(fruits2)\n",
    "print(fruits3)\n",
    "fruits2.append(fruits3)\n",
    "print(fruits2)"
   ]
  },
  {
   "cell_type": "code",
   "execution_count": null,
   "metadata": {},
   "outputs": [],
   "source": []
  }
 ],
 "metadata": {
  "kernelspec": {
   "display_name": "Python 3",
   "language": "python",
   "name": "python3"
  },
  "language_info": {
   "codemirror_mode": {
    "name": "ipython",
    "version": 3
   },
   "file_extension": ".py",
   "mimetype": "text/x-python",
   "name": "python",
   "nbconvert_exporter": "python",
   "pygments_lexer": "ipython3",
   "version": "3.8.5"
  }
 },
 "nbformat": 4,
 "nbformat_minor": 4
}
