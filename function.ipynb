{
 "cells": [
  {
   "cell_type": "code",
   "execution_count": 1,
   "metadata": {},
   "outputs": [
    {
     "name": "stdout",
     "output_type": "stream",
     "text": [
      "t\n"
     ]
    }
   ],
   "source": [
    "def last_char(name):\n",
    "    return name[-1]\n",
    "print(last_char(\"Arit\"))"
   ]
  },
  {
   "cell_type": "code",
   "execution_count": 2,
   "metadata": {},
   "outputs": [
    {
     "name": "stdout",
     "output_type": "stream",
     "text": [
      "even\n"
     ]
    }
   ],
   "source": [
    "def odd_even(num):\n",
    "    if num%2== 0:\n",
    "        return \"even\"\n",
    "    else:\n",
    "        return \"odd\"\n",
    "print(odd_even(10))"
   ]
  },
  {
   "cell_type": "code",
   "execution_count": 3,
   "metadata": {},
   "outputs": [
    {
     "name": "stdout",
     "output_type": "stream",
     "text": [
      "odd\n"
     ]
    }
   ],
   "source": [
    "def odd_even(num):\n",
    "    if num%2== 0:\n",
    "        return \"even\"\n",
    "    return \"odd\"\n",
    "print(odd_even(9))"
   ]
  },
  {
   "cell_type": "code",
   "execution_count": 4,
   "metadata": {},
   "outputs": [
    {
     "name": "stdout",
     "output_type": "stream",
     "text": [
      "False\n"
     ]
    }
   ],
   "source": [
    "def is_even(num):\n",
    "    if num%2 == 0:\n",
    "        return True\n",
    "    else:\n",
    "        return False\n",
    "print(is_even(9))"
   ]
  },
  {
   "cell_type": "code",
   "execution_count": 5,
   "metadata": {},
   "outputs": [
    {
     "name": "stdout",
     "output_type": "stream",
     "text": [
      "False\n"
     ]
    }
   ],
   "source": [
    "def is_even(num):\n",
    "    return num%2 == 0\n",
    "print(is_even(9))\n",
    "   "
   ]
  },
  {
   "cell_type": "markdown",
   "metadata": {},
   "source": [
    "# create a funtion without any parameters "
   ]
  },
  {
   "cell_type": "code",
   "execution_count": 6,
   "metadata": {},
   "outputs": [
    {
     "name": "stdout",
     "output_type": "stream",
     "text": [
      "happy birthday\n"
     ]
    }
   ],
   "source": [
    "def song():\n",
    "    return \"happy birthday\"\n",
    "print(song())"
   ]
  },
  {
   "cell_type": "markdown",
   "metadata": {},
   "source": [
    "# create a function that cheak which number is greater ? exercise a function"
   ]
  },
  {
   "cell_type": "code",
   "execution_count": null,
   "metadata": {},
   "outputs": [],
   "source": [
    "def greter(a,b):\n",
    "    if a>b:\n",
    "        return a\n",
    "    else:\n",
    "        return b\n",
    "    \n",
    "num1= int(input(\"enter the first number\"))\n",
    "num2= int(input(\"enter the second number\"))\n",
    "bigger= greter(num1, num2)\n",
    "\n",
    "print(f\"{bigger} is greater\")"
   ]
  },
  {
   "cell_type": "markdown",
   "metadata": {},
   "source": [
    "# create a function  that cheak  which number i greater in between 3 number"
   ]
  },
  {
   "cell_type": "code",
   "execution_count": null,
   "metadata": {},
   "outputs": [],
   "source": [
    "def greater(a,b,c):\n",
    "    if a>b>c:\n",
    "        return a\n",
    "    elif b>a>c:\n",
    "        return b\n",
    "    else:\n",
    "        return c\n",
    "    \n",
    "num1=int(input(\"enter first number: \"))\n",
    "num2= int(input(\"enter second number: \"))\n",
    "num3= int(input(\"enter 3rd number: \"))\n",
    "\n",
    "bigger= greater(num1, num2, num3)\n",
    "\n",
    "print(f\"{bigger}is greater\")"
   ]
  },
  {
   "cell_type": "markdown",
   "metadata": {},
   "source": [
    "# another way to solve using and opperater"
   ]
  },
  {
   "cell_type": "code",
   "execution_count": null,
   "metadata": {},
   "outputs": [],
   "source": [
    "def greater(a,b,c):\n",
    "    \n",
    "    if a>b and a>c:\n",
    "        return a\n",
    "    elif b>a and b>c:\n",
    "        return b\n",
    "    else:\n",
    "        return c\n",
    "    \n",
    "num1=int(input(\"enter first number: \"))\n",
    "num2= int(input(\"enter second number: \"))\n",
    "num3= int(input(\"enter 3rd number: \"))\n",
    "\n",
    "bigger= greater(num1, num2, num3)\n",
    "\n",
    "print(f\"{bigger}is greater\")"
   ]
  },
  {
   "cell_type": "markdown",
   "metadata": {},
   "source": [
    "# FUNCTION INSIDE FUNCTION"
   ]
  },
  {
   "cell_type": "code",
   "execution_count": null,
   "metadata": {},
   "outputs": [],
   "source": [
    "def greatest(a,b,c):\n",
    "    bigger= greter(a,b)\n",
    "    return greter(bigger,c)# you can call another function inside a diferent function \n",
    "print(greatest(100,200,30))"
   ]
  },
  {
   "cell_type": "code",
   "execution_count": null,
   "metadata": {},
   "outputs": [],
   "source": [
    "def greatest(a,b,c):\n",
    "    return greter(greter(a,b),c)# you can call another function inside a diferent function \n",
    "print(greatest(100,200,30))"
   ]
  },
  {
   "cell_type": "markdown",
   "metadata": {},
   "source": [
    "##  #kiss - keep it simple stupid"
   ]
  },
  {
   "cell_type": "markdown",
   "metadata": {},
   "source": [
    "#it is an computer pograming techniques principle its mean how you are cofrtble to write code "
   ]
  },
  {
   "cell_type": "markdown",
   "metadata": {},
   "source": [
    "another define function \n"
   ]
  },
  {
   "cell_type": "code",
   "execution_count": null,
   "metadata": {},
   "outputs": [],
   "source": [
    "def is_palindrom(word):\n",
    "    reversed_word = word[::-1]\n",
    "    if word == reversed_word:\n",
    "        return True\n",
    "  \n",
    "    return False\n",
    "        \n",
    "print(is_palindrom(\"naman\"))\n",
    "print(is_palindrom (\"horse\"))"
   ]
  },
  {
   "cell_type": "code",
   "execution_count": null,
   "metadata": {},
   "outputs": [],
   "source": [
    "def is_palindrom(word):\n",
    "    return word == word[::-1]\n",
    "    \n",
    "  \n",
    " \n",
    "        \n",
    "print(is_palindrom(\"naman\"))\n",
    "print(is_palindrom (\"horse\"))"
   ]
  },
  {
   "cell_type": "markdown",
   "metadata": {},
   "source": [
    "## define  fibonacci seris"
   ]
  },
  {
   "cell_type": "code",
   "execution_count": null,
   "metadata": {},
   "outputs": [],
   "source": [
    "#0 1 1 2 3 5 8 13 21 34.........\n",
    "\n",
    "def fibonacci_seq(n):\n",
    "    a = 0 # first number , a=1\n",
    "    b = 1 # second number, b= 1\n",
    "    \n",
    "    if n== 1:\n",
    "        print(a, b)\n",
    "    elif n== 2:\n",
    "        print(a, b) # a b , 0 1\n",
    "    else:\n",
    "        print(a, b, end = \" \")\n",
    "        for i in range(n-2):\n",
    "            c = a+b #c=1,2,3\n",
    "            a = b #a=1,1,2\n",
    "            b = c # b=1,2,3\n",
    "            print(b,end = \" \")\n",
    "fibonacci_seq(100)"
   ]
  },
  {
   "cell_type": "markdown",
   "metadata": {},
   "source": [
    "## defult parametrs"
   ]
  },
  {
   "cell_type": "code",
   "execution_count": null,
   "metadata": {},
   "outputs": [],
   "source": [
    "def user_info(first_name, last_name, age):\n",
    "    print(f\"your first name is {first_name}\")\n",
    "    print(f\"your lat name is {last_name}\")\n",
    "    print(f\"your age is {age}\")\n",
    "    \n",
    "print(user_info(\"arit\", \"mistri\",18))\n",
    "    "
   ]
  },
  {
   "cell_type": "markdown",
   "metadata": {},
   "source": [
    "## some error"
   ]
  },
  {
   "cell_type": "code",
   "execution_count": null,
   "metadata": {},
   "outputs": [],
   "source": [
    "def user_info(first_name, last_name, age):\n",
    "    print(f\"your first name is {first_name}\")\n",
    "    print(f\"your lat name is {last_name}\")\n",
    "    print(f\"your age is {age}\")\n",
    "    \n",
    "print(user_info(\"arit\", \"mistri\",))# user_info() missing 1 required positional argument: 'age'\n",
    "    "
   ]
  },
  {
   "cell_type": "code",
   "execution_count": null,
   "metadata": {},
   "outputs": [],
   "source": [
    "def user_info(first_name, last_name, age= None):\n",
    "    print(f\"your first name is {first_name}\")\n",
    "    print(f\"your lat name is {last_name}\")\n",
    "    print(f\"your age is {age}\")\n",
    "    \n",
    "print(user_info(\"arit\", \"mistri\",18))"
   ]
  },
  {
   "cell_type": "markdown",
   "metadata": {},
   "source": [
    "# one more error"
   ]
  },
  {
   "cell_type": "code",
   "execution_count": null,
   "metadata": {},
   "outputs": [],
   "source": [
    "def user_info(first_name, last_name = \"mistri\", age):\n",
    "    print(f\"your first name is {first_name}\")\n",
    "    print(f\"your lat name is {last_name}\")\n",
    "    print(f\"your age is {age}\")\n",
    "    \n",
    "print(user_info(\"arit\",18))"
   ]
  },
  {
   "cell_type": "code",
   "execution_count": null,
   "metadata": {},
   "outputs": [],
   "source": [
    "def user_info(first_name= \"arit\", last_name, age):\n",
    "    print(f\"your first name is {first_name}\")\n",
    "    print(f\"your lat name is {last_name}\")\n",
    "    print(f\"your age is {age}\")\n",
    "    \n",
    "print(user_info(\"mistri\",18))"
   ]
  },
  {
   "cell_type": "markdown",
   "metadata": {},
   "source": [
    "## scope"
   ]
  },
  {
   "cell_type": "markdown",
   "metadata": {},
   "source": [
    "understanding by some error example"
   ]
  },
  {
   "cell_type": "code",
   "execution_count": null,
   "metadata": {},
   "outputs": [],
   "source": []
  },
  {
   "cell_type": "markdown",
   "metadata": {},
   "source": [
    "# return vs print"
   ]
  },
  {
   "cell_type": "markdown",
   "metadata": {},
   "source": [
    "return"
   ]
  },
  {
   "cell_type": "code",
   "execution_count": 1,
   "metadata": {},
   "outputs": [
    {
     "data": {
      "text/plain": [
       "15"
      ]
     },
     "execution_count": 1,
     "metadata": {},
     "output_type": "execute_result"
    }
   ],
   "source": [
    "def add_three(a,b,c):\n",
    "    return a+b+c\n",
    "add_three(5,5,5)"
   ]
  },
  {
   "cell_type": "markdown",
   "metadata": {},
   "source": [
    "print"
   ]
  },
  {
   "cell_type": "code",
   "execution_count": 2,
   "metadata": {},
   "outputs": [
    {
     "name": "stdout",
     "output_type": "stream",
     "text": [
      "15\n"
     ]
    }
   ],
   "source": [
    "def add_three(a,b,c):\n",
    "     print(a+b+c) \n",
    "add_three(5,5,5)"
   ]
  }
 ],
 "metadata": {
  "kernelspec": {
   "display_name": "Python 3",
   "language": "python",
   "name": "python3"
  },
  "language_info": {
   "codemirror_mode": {
    "name": "ipython",
    "version": 3
   },
   "file_extension": ".py",
   "mimetype": "text/x-python",
   "name": "python",
   "nbconvert_exporter": "python",
   "pygments_lexer": "ipython3",
   "version": "3.8.5"
  }
 },
 "nbformat": 4,
 "nbformat_minor": 4
}
